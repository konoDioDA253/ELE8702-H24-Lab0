{
 "cells": [
  {
   "cell_type": "markdown",
   "id": "b8d50580",
   "metadata": {},
   "source": [
    " ## Laboratoire0 ele8702 \n",
    "   ##                                             Hiver 2024"
   ]
  },
  {
   "cell_type": "markdown",
   "id": "d48faa4a",
   "metadata": {},
   "source": [
    "## Introduction"
   ]
  },
  {
   "cell_type": "markdown",
   "id": "02a0a892",
   "metadata": {},
   "source": [
    "Ce laboratoire va vous permettre de travailler avec le language Python qui sera utilisé tout au long du cours ELE8702. Il va également vous familiariser avec la manipulation de certains éléments qui sont essentiels dans les réseaux de télécommunications et qui seront utilisés dans les laboratoires subséquents, tels la notion d'Antenne et de UEs. Finalement, le laboratoire va mettre les bases sur la présentation des programmes et résultats tout au long de la session."
   ]
  },
  {
   "cell_type": "markdown",
   "id": "5d90329b",
   "metadata": {},
   "source": [
    "## Réquis pour tous les laboratoire"
   ]
  },
  {
   "cell_type": "markdown",
   "id": "03ce3125",
   "metadata": {},
   "source": [
    "Les réquis donnés ci-dessous sont communs à **tous** les laboratoires. Les équipes qui ne respectent pas ces réquis auront la note diminuée de 50%."
   ]
  },
  {
   "cell_type": "markdown",
   "id": "8b497994",
   "metadata": {},
   "source": [
    "- Toutes les valeurs utilisées par les programmes devront être lues à partir des fichiers de données (i.e. le fichier de cas et autres). **Il ne doit pas y avoir des variables \"hard-wired\" (explicitement initialisées) dans aucun programme.** La seule exception sont des constantes qui vous seront spécifiées en temps et lieux."
   ]
  },
  {
   "cell_type": "markdown",
   "id": "1c135885",
   "metadata": {},
   "source": [
    "- Vous devez **toujours** fournir les fichiers de données que vous avez utilisés pour obtenir vos résultats"
   ]
  },
  {
   "cell_type": "markdown",
   "id": "b04d00cc",
   "metadata": {},
   "source": [
    "- Les **noms des classes** données comme éléments fournis des laboratoires (i.e. Antenna et UE) ne doit **jamais** changer. Les **noms de leurs attributs** et leurs **types** doivent aussi rester inchangés."
   ]
  },
  {
   "cell_type": "markdown",
   "id": "db0f398f",
   "metadata": {},
   "source": [
    "- Vous pouvez **ajouter des attributs** et/ou des **méthodes** aux classes fournies, mais **jamais en éffacer**."
   ]
  },
  {
   "cell_type": "markdown",
   "id": "0a4da875",
   "metadata": {},
   "source": [
    "- Le format des fichiers de sortie doivent être **exactement** tel que demandé. **Aucun ajout ni aucun changement** ne sera permis"
   ]
  },
  {
   "cell_type": "markdown",
   "id": "4faa0387",
   "metadata": {},
   "source": [
    "- Vous pouvez utiliser vos librairies Python préférées, incluant ```numpy``` et ```pandas``` pour faire vos calculs intermédiaires (mais ce n'est pas necéssaire car nullepart on vous demandera ni de dataframes ni des ndarrays).  **Les formats de sortie demandés dans les laboratoires doivent toujours être respectés** (voir point ci-dessus)"
   ]
  },
  {
   "cell_type": "markdown",
   "id": "8f6a67af",
   "metadata": {},
   "source": [
    "- Les objets ```UE``` et ```Antenna``` devront **toujours** avoir des ```id``` **numériques entiers** consécutifs débuttant par la valeur ```0```"
   ]
  },
  {
   "cell_type": "markdown",
   "id": "047a3dda",
   "metadata": {},
   "source": [
    "- Si le programme demande une intéraction avec l'utilisateur (i.e. avec la commande ```input()```), la question qui sera posée devra identifier clairement le nom de la variable ou paramètre voulu. Si l'utilisateur ne donne pas de réponse, le programme doit montrer la valeur utilisée par défaut. "
   ]
  },
  {
   "cell_type": "markdown",
   "id": "0b083af2",
   "metadata": {},
   "source": [
    "- Sauf si explicitement indiqué, il ne faut jamais demander à l'utilisateur la valeur d'un paramètre qui doit être spécifiée dans le fichier de cas. "
   ]
  },
  {
   "cell_type": "markdown",
   "id": "f575939c",
   "metadata": {},
   "source": [
    "## Définition du problème"
   ]
  },
  {
   "cell_type": "markdown",
   "id": "6a056e0d",
   "metadata": {},
   "source": [
    "Nous avons un terrain rectangulaire de dimension donnée. Nous devons placer sur ce terrain un certain nombre d'antennes et de UEs. Toutes les antennes qui seront placées sur le terrain sont du même type. Par contre, les UEs peuvent être de type différent. Chaque type de UE est caractérisé par l'application qu'il contient. Parmi les UEs, **un certain nombre vont tourner l'application 1 et d'autres l'application 2.** Les antennes doivent être placées **sur une grille** alors que les UEs doivent être placés de **façon aléatoire.**  Nous avons une base de données (fichier ```devices_db.yaml```) qui spécifie les caractéristiques des différents types d'équipements (antennes et UEs). Cette base de données vous sera fournie (voir section d'élements fournis). "
   ]
  },
  {
   "cell_type": "markdown",
   "id": "5b5efab5",
   "metadata": {},
   "source": [
    "## Objectif"
   ]
  },
  {
   "cell_type": "markdown",
   "id": "1a77cf86",
   "metadata": {},
   "source": [
    "- Générer des coordonnées des antennes et des UEs d'après les spécifications du fichier de cas (voir section d'éléments fournis ci-bas)."
   ]
  },
  {
   "cell_type": "markdown",
   "id": "2a99e3f5",
   "metadata": {},
   "source": [
    "## Données d'entrée\n",
    "- Il y a deux types de données d'entrée: \n",
    "\n",
    "    - **fichier de cas**:\n",
    "       - créé pour chaque cas en étude (un exemple montrant le format est donné ci dessous)     \n",
    "        \n",
    "    - **base de donnée des équipements (fichier ```devices_db.yaml```)**:\n",
    "       - elle est unique pour tous les cas d'étude\n",
    "       - elle est fournie telle quelle\n",
    "       - elle ne doit pas être modifiée"
   ]
  },
  {
   "cell_type": "markdown",
   "id": "c35fde67",
   "metadata": {},
   "source": [
    "### Exemple de format d'un fichier de cas"
   ]
  },
  {
   "cell_type": "markdown",
   "id": "9441dae7",
   "metadata": {},
   "source": [
    "```python\n",
    "\n",
    "--- # cas8.yaml\n",
    "###############################################\n",
    "#                                             #\n",
    "#         Cas 8:                              #\n",
    "#            File: cas8.yaml                  #\n",
    "#            Description: Etude important     #\n",
    "#                                             #\n",
    "###############################################\n",
    "# En .yaml, pour désactiver un champs, le mettre comme commentaire\n",
    "ETUDE_IMPORTANT:\n",
    "   SCENARIO : Uma\n",
    "   ANT_COORD_GEN : g\n",
    "   UE_COORD_GEN: a\n",
    "   COORD_FILES:  # Utilisé quand les coordonées sont lues à partir d'un fichier.\n",
    "      read: data/coordonnees_case9.txt # actif quand on lis le fichier de coordonnées\n",
    "      #write: data/sortie_case9.txt   # actif quand on veut écrire les résultats dans un fichier\n",
    "   DEVICES:\n",
    "      Antenna1 : # Group Antenna1 (comme défini dans la base de données)\n",
    "         number : 25\n",
    "      UE1-App1 :# Group UE1-App1 (comme défini dans la base de données)\n",
    "         number : 30\n",
    "      UE2-App2 : # Group UE2-App2 (comme défini dans la base de données)\n",
    "         number: 20\n",
    "   GEOMETRY:\n",
    "      Surface:\n",
    "         rectangle:\n",
    "           length : 5000 # en mètres\n",
    "           heigth : 4000\n",
    "```"
   ]
  },
  {
   "cell_type": "markdown",
   "id": "083a3d61",
   "metadata": {},
   "source": [
    "Le fichier ci-dessus représente un exemple de fichier de cas en étude. Voici ses caractéristiques:\n",
    "\n",
    "- Structure hierarchique\n",
    "- Les différents niveaux de la structure sont donnés par décalage\n",
    "- Chaque donnée représente une paire clé:valeur (\"key:value\")"
   ]
  },
  {
   "cell_type": "markdown",
   "id": "21792034",
   "metadata": {},
   "source": [
    "- Dans le fichier montré :\n",
    "\n",
    "    - le titre de l'étude est ``ETUDE_IMPORTANT```\n",
    "    - le ```SCENARIO``` d'étude correspond à un des scénarios donnés par le 3GPP (Umi, Uma, Rma, InF, etc.)\n",
    "    - ```ANT_COORD_GEN``` c'est le type de génération des coordonnées d'antennes\n",
    "    - ```UE_COORD_GEN``` c'est le type de génération des coordonnées des UEs.\n",
    "    - Les valeurs possibles de ```ANT_COORD_GEN``` et ```UE_COORD_GEN``` sont:\n",
    "    - ```g``` indique que les dispositifs sont placés en grille\n",
    "    - ```a``` indique que les coordonnées des dispositifs sont aléatoires\n",
    "    - ```CORD_FILES``` (Optionnel) indique si la lecture de coordonnées et/ou l'écriture des résultats se fera à partir de fichiers.\n",
    "    - ```read``` (Optionnel), si présent, donne le nom du fichier de lecture contenant les coordonnées d'équipements\n",
    "    - ```write``` (Optionnel), si présent, donne le nom du fichier de sortie des résultats\n",
    "    - ```DEVICES``` décrit les types de dispositifs (antennes, UEs) utilisés, ainsi que leur nombre\n",
    "    - ```GEOMETRY``` donne des informations sur la surface de l'étude. Pour le moment la géométrie sera toujours un rectangle\n",
    "    - les dimensions sont fournie aux champs ```length``` et ```height```"
   ]
  },
  {
   "cell_type": "markdown",
   "id": "c976afb8",
   "metadata": {},
   "source": [
    "**On utilise les fichiers ```.yaml``` comme ci-dessus pour les fichiers de données. Leur lecture est de beaucoup simplifiée avec l'utilisation du module ```yaml``` de Python. Ce module produit automatiquement un dictionnaire Python réfletant la structure hiérarchique des données**"
   ]
  },
  {
   "cell_type": "markdown",
   "id": "3f1e7b14",
   "metadata": {},
   "source": [
    "## Élements Fournis"
   ]
  },
  {
   "cell_type": "markdown",
   "id": "49fd1b8d",
   "metadata": {},
   "source": [
    "### 1. base de données des dispositifs ```devices_db.yaml``` "
   ]
  },
  {
   "cell_type": "markdown",
   "id": "dc9d49df",
   "metadata": {},
   "source": [
    "Son utilisation est obligatoire. Pour le lab0 elle ne peut pas être modifiée."
   ]
  },
  {
   "cell_type": "markdown",
   "id": "dc6c0b12",
   "metadata": {},
   "source": [
    "```python\n",
    "################################################\n",
    "#                                              #\n",
    "#     devices_db:                              #\n",
    "#     File: devices_db.yaml                    #\n",
    "#     Description: Base de données avec        #\n",
    "#                  info des dispositifs        #\n",
    "#                                              #\n",
    "################################################\n",
    "ANTENNAS:\n",
    "  Antenna1:\n",
    "    type: antenna\n",
    "    name: Antenna1\n",
    "    height: 10\n",
    "    scenario:  UMi\n",
    "    frequency:  28 #GHz\n",
    "    gain:  40\n",
    "#\n",
    "  Antenna2:\n",
    "    type: antenna\n",
    "    name: Antenna2\n",
    "    height: 35\n",
    "    scenario:  RMa\n",
    "    frequency:  0.9 #GHz\n",
    "    gain:  45\n",
    "#\n",
    "  Antenna3:\n",
    "    type: antenna\n",
    "    name: Antenna1\n",
    "    height: 10\n",
    "    scenario:  UMi\n",
    "    frequency:  28 #GHz\n",
    "    gain:  45\n",
    "#\n",
    "  Antenna4:\n",
    "    type: antenna\n",
    "    name: Antenna2\n",
    "    height: 37\n",
    "    scenario:  RMa\n",
    "    frequency:  0.9 #GHz\n",
    "    gain:  45\n",
    "    \n",
    "UES:\n",
    "  UE1-App1:\n",
    "    type: ue\n",
    "    name: UE1-App1\n",
    "    app: app1\n",
    "    height:  1.5\n",
    "\n",
    "  UE2-App2:\n",
    "    type: ue\n",
    "    name: UE2-App2\n",
    "    app: app2\n",
    "    height:  1.5\n",
    "```"
   ]
  },
  {
   "cell_type": "markdown",
   "id": "56b852f6",
   "metadata": {},
   "source": [
    "### 2. Parties du programme lab0_eqn.py"
   ]
  },
  {
   "cell_type": "markdown",
   "id": "69076611",
   "metadata": {},
   "source": [
    "- Ci dessous vous trouverez des parties du programme que vous devrez concevoir et remettre. Voici des informations sur les élements fournis. \n",
    "    - Les classes Antenna et UE doivent apparaître tel quel dans votre programme (fournies)\n",
    "    - La fonction ```get_lattice_coords``` vous permet de trouver des coordonnées en grille (fournie)\n",
    "    - La fonction ```get_from_dict``` vous permet de sortir la valeur d'une clé d'un dictionnaire (fournie)\n",
    "    - La fonction ```read_yaml_file``` vous permet de lire un fichier ```.yaml``` (fournie)\n",
    "    - La fonction ```gen_random_coords``` doit trouver des coordonnées aléatoires (à développer)\n",
    "    - La fonction ```lab0``` doit retourner une liste des objets antenna et une liste des objets ues (à développer)\n",
    "    - La fonction ```treat_args``` retourne le nom du fichier de cas à partir de l'interface de commande (CLI)(à développer)\n",
    "    - La fonction ```main``` qui contient des instructions pour faire appel aux autres fonctions du programme (à développer)\n",
    "    - Les fonctions ```foo1```, ```foo2```, etc. qui sont des fonctions pour faire des calculs intermédiaires (à développer)  \n",
    "    \n",
    "- La liste ci-dessus est non-exhaustive. Veuillez suivre et  ***lire attentivement les commentaires dans le code.***\n"
   ]
  },
  {
   "cell_type": "markdown",
   "id": "4b41eae1",
   "metadata": {},
   "source": [
    "### Lab0_eqn.py"
   ]
  },
  {
   "cell_type": "markdown",
   "id": "973b6664",
   "metadata": {},
   "source": [
    "```python\n",
    "## Écrire votre numéro d'équipe\n",
    "## Érire les noms et matricules de chaque membre de l'équipe\n",
    "## CECI EST OBLIGATOIRE\n",
    "import sys\n",
    "import math\n",
    "import yaml\n",
    "import random\n",
    "\n",
    "class Antenna:\n",
    "    \n",
    "    def __init__(self, idx):\n",
    "        self.id = idx\n",
    "        self.coords = None\n",
    "        self.scenario = None\n",
    "        self.height = None\n",
    "        self.frequency = None\n",
    "\n",
    "    \n",
    "class UE:\n",
    "    \n",
    "    def __init__(self, idx, app_name):\n",
    "        self.id= idx\n",
    "        self.group = None\n",
    "        self.app=app_name\n",
    "        self.height = None\n",
    "        self.los = True\n",
    "\n",
    "def fill_up_the_lattice(N, lh, lv, nh, nv):\n",
    "    \"\"\"Function appelée par get_rectangle_lattice_coords()\"\"\"\n",
    "    \n",
    "    def get_delta1d(L, n):\n",
    "        return L/(n + 1)\n",
    "    \n",
    "    coords = []\n",
    "    deltav = get_delta1d(lv, nv)\n",
    "    deltah = get_delta1d(lh, nh)\n",
    "    line = 1\n",
    "    y = deltav\n",
    "    count = 0\n",
    "    while count < N:\n",
    "        if count + nh < N:\n",
    "            x = deltah\n",
    "            for  i in range(nh):\n",
    "                # Fill up the horizontal line\n",
    "                coords.append((x,y))\n",
    "                x = x + deltah\n",
    "                count += 1\n",
    "            line += 1\n",
    "        else:\n",
    "            deltah = get_delta1d(lh, N - count)\n",
    "            x = deltah\n",
    "            for i in range(N - count):\n",
    "                # Fill up the last horizontal line\n",
    "                coords.append((x,y))\n",
    "                x = x + deltah\n",
    "                count += 1\n",
    "            line += 1\n",
    "        y = y +deltav\n",
    "    return coords\n",
    "\n",
    "def get_rectangle_lattice_coords(lh, lv, N, Np, nh, nv):\n",
    "    \"\"\"Function appelee par gen_lattice_coords()\"\"\"\n",
    "    \n",
    "    if Np > N:\n",
    "        coords = fill_up_the_lattice(N, lh, lv, nh, nv)\n",
    "    elif Np < N:\n",
    "        coords = fill_up_the_lattice(N, lh, lv, nh, nv + 1)\n",
    "    else:\n",
    "        coords = fill_up_the_lattice(N, lh, lv, nh, nv)\n",
    "    return coords\n",
    "\n",
    "def gen_lattice_coords(terrain_shape: dict, N: int):\n",
    "    \"\"\"Génère un ensemble de N coordonnées placées en grille \n",
    "       sur un terrain rectangulaire\n",
    "    \n",
    "       Args: terrain_shape: dictionary {'rectangle': {'length' : lh,\n",
    "                                                   'height' : lv}\n",
    "           lh and lv are given in the case file\"\"\"\n",
    "    #CETTE FONCION EST OBLIGATOIRE POUR L'OPTION GRILLE (g) DU FICHIER DE CAS\n",
    "\n",
    "    shape = list(terrain_shape.keys())[0]\n",
    "    lh = terrain_shape[shape]['length']\n",
    "    lv = terrain_shape[shape]['height']\n",
    "    R = lv / lh    \n",
    "    nv = round(math.sqrt(N / R))\n",
    "    nh = round(R * nv)\n",
    "    Np = nh * nv\n",
    "    if shape.lower() == 'rectangle':\n",
    "        coords = get_rectangle_lattice_coords(lh, lv, N, Np, nh, nv)\n",
    "    else:\n",
    "        msg = [f\"\\tImproper shape ({shape}) used in the\\n\",\n",
    "                \"\\tgeneration of lattice coordinates.\\n\"\n",
    "                \"\\tValid values: ['rectangle']\"]\n",
    "        ERROR(''.join(msg), 2)\n",
    "    return coords        \n",
    "\n",
    "def get_from_dict(key, data, res=None, curr_level = 1, min_level = 1):\n",
    "    \"\"\"Fonction qui retourne la valeur de n'importe quel clé du dictionnaire\n",
    "       key: clé associé à la valeur recherchée\n",
    "       data: dictionnaire dans lequel il faut chercher\n",
    "       les autres sont des paramètres par défaut qu'il ne faut pas toucher\"\"\"\n",
    "    if res:\n",
    "        return res\n",
    "    if type(data) is not dict:\n",
    "        msg = f\"get_from_dict() works with dicts and is receiving a {type(data)}\"\n",
    "        ERROR(msg, 1)\n",
    "    else:\n",
    "        # data IS a dictionary\n",
    "        for k, v in data.items():\n",
    "            if k == key and curr_level >= min_level:\n",
    "                #print(f\"return data[k] = {data[k]} k = {k}\")\n",
    "                return data[k]\n",
    "            if type(v) is dict:\n",
    "                level = curr_level + 1\n",
    "                res = get_from_dict(key, v, res, level, min_level)\n",
    "    return res \n",
    "\n",
    "def read_yaml_file(fname):\n",
    "    # Fonction utilisée pour lire les fichiers de type .yaml\n",
    "    # fname: nom du fichier .yaml à lire\n",
    "    # le retour de la fonction est un dictionnaire avec toute l'information qui se trouve\n",
    "    # dans le fichier .yaml\n",
    "    # Si vous préférez vous pouvez utiliser une autre fonction pour lires les fichiers\n",
    "    # de type .yaml.\n",
    "    # À noter que dans cette fonction il faut ajouter les vérifications qui s'imposent\n",
    "    # par exemple, l'existance du fichier\n",
    "    with open(fname,'r') as file:\n",
    "        return yaml.safe_load(file)\n",
    "\n",
    "def gen_random_coords(param1, param2, ... ,param n):\n",
    "    # Cette fonction doit générer les coordonées pour le cas de positionnement aléatoire\n",
    "    # TODO\n",
    "\n",
    "def foo1(param1, param2, ... , param n):\n",
    "\n",
    "    # ....\n",
    "    \n",
    "\n",
    "def foo2 (param1, param2, ... ,param n):\n",
    "    # ....\n",
    "\n",
    "def lab0 (data_case):\n",
    "    #TODO ....\n",
    "    # antennas est une liste qui contient les objets de type Antenna\n",
    "    # ues est une liste qui contient les objets de type UE\n",
    "    #\n",
    "    # antennas = [ant0,ant1,...] \n",
    "    #            ant1, ant2 etc sont des instances (objets) de la classe Antenna\n",
    "    # ues = [ue0, ue1,...] \n",
    "    #             ue0, ue1, etc sont des instances (objets) de la classe UE\n",
    "    # avant de faire le retour, les objets appartenant aux listes antennas et ues \n",
    "    # doivent avoir leur coordonées initialisées\n",
    "    # CETTE FONCTION EST OBLIGATOIRE\n",
    "    return (antennas,ues)\n",
    "\n",
    "def treat_args() :\n",
    "    # cette fonction doit retourner le nom du fichier de cas à partir de l'interface de commande (CLI)\n",
    "    #... \n",
    "    # TODO\n",
    "    #....\n",
    "    # CETTE FONCTION EST OBLIGATOIRE\n",
    "    # À noter que dans cette fonction il faut ajouter les vérifications qui s'imposent\n",
    "    # par exemple, nombre d'arguments appropriés, existance du fichier de cas, etc.\n",
    "    return case_file_name\n",
    "\n",
    "def main():\n",
    "    case_file_name = treat_args()\n",
    "    #\n",
    "    #TODO les instructions de main qui vont faire appel aux autres fonctions du programme\n",
    "    #.....\n",
    "\n",
    "if __name__ == '__main__':\n",
    "    main()\n",
    "```\n"
   ]
  },
  {
   "cell_type": "markdown",
   "id": "9cd1ce56",
   "metadata": {},
   "source": [
    "## Fichier de sortie demandée"
   ]
  },
  {
   "cell_type": "markdown",
   "id": "d73e0253",
   "metadata": {},
   "source": [
    "## Livrables"
   ]
  },
  {
   "cell_type": "markdown",
   "id": "42b2db81",
   "metadata": {},
   "source": [
    "La sortie demandée est un fichier de texte qui contient les informations des antennes et des UEs. Dans le cas des antennes, chaque ligne a quatre colonnes. Les colonnes sont séparées par des espaces. \n",
    "La première colonne doit indiquer le type de dispositif (antenna ou ue). La deuxième l'ID du dispositif. La troisième le groupe auquel le dispositif appartient (voir fichier de cas et base de données). Les deux prochaines colonnes correspondent aux coordonnées x et y du dispositif. Dans le cas des UEs la colonne additionnelle identifie le type d'application de l'UE. Toutes les lignes doivent être triées par ordre croissant de ID en commençant par le ID 0.\n",
    "\n",
    "Un exemple du format du fichier de coordonnées est donné ci-dessous.\n",
    "\n",
    "\n",
    "\n",
    "```\n",
    "\n",
    "antenna\t0\tAntenna1\t500.0\t500.0\n",
    "antenna\t1\tAntenna1\t1000.0\t500.0\n",
    "antenna\t2\tAntenna1\t1500.0\t500.0\n",
    "             .\n",
    "             .\n",
    "             .\n",
    "   \n",
    "ue\t0\tUE1-App1\t2643.9\t3429.8\tapp1\n",
    "ue\t1\tUE1-App1\t4996.9\t488.8\tapp1\n",
    "ue\t2\tUE1-App1\t2632.0\t3196.5\tapp1\n",
    "             .\n",
    "             .\n",
    "             . \n",
    "ue\t30\tUE2-App2\t1548.1\t3911.7\tapp2\n",
    "ue\t31\tUE2-App2\t2389.7\t1133.5\tapp2\n",
    "ue\t32\tUE2-App2\t3332.9\t4780.3\tapp2\n",
    "```\n",
    "              "
   ]
  },
  {
   "cell_type": "markdown",
   "id": "f6fcbca5",
   "metadata": {},
   "source": [
    "- Les livrables pour ce laboratoire sont les suivants:\n",
    "    - Le fichier contenant le programme python développé par groupe. Il devra s'appeler ```lab0_eqn.py``` où ```eqn``` représente l'équipe, par exemple si c'est l'équipe 15, le fichier s'appelera ```lab0_eq15.py```.\n",
    "    - Le fichier de sortie demandé. Il devra être renommé ```lab0_eqn_coords.txt```.\n",
    "    - Le fichier de cas utilisé pour obtenir la sortie. Il devra s'appeler ```lab0_eqn_cas.yaml```."
   ]
  },
  {
   "cell_type": "markdown",
   "id": "42410f34",
   "metadata": {},
   "source": [
    "- Les fichiers devront être remis sur Moodle. Le correcteur ne devra faire aucune manipulation aux programmes ni devra créer des nouveaux repertoires ou fichier pour faire tourner le programme avec la commande:\n",
    "```python lab0_eq15.py lab0_eqn_cas.yaml```\n",
    "- Pour ne pas créer des conflits entre fichiers soumis et créés lors de la correction, le fichier de sortie de votre programme devra s'appeler ```lab0_eqn_sortie.txt```"
   ]
  },
  {
   "cell_type": "markdown",
   "id": "31c264b5",
   "metadata": {},
   "source": [
    "- ***Note:*** votre programme sera testé non seulement avec le fichier de cas que vous avez soumis, mais aussi avec d'autres fichiers de cas.\n",
    "    "
   ]
  },
  {
   "cell_type": "markdown",
   "id": "e2d713b9",
   "metadata": {},
   "source": [
    "## Barême de Correction"
   ]
  },
  {
   "cell_type": "markdown",
   "id": "6477afee",
   "metadata": {},
   "source": [
    "- Justesse des résultats  40%"
   ]
  },
  {
   "cell_type": "markdown",
   "id": "0dcdb3a8",
   "metadata": {},
   "source": [
    "- Robustesse et scalabilité du programme 30%"
   ]
  },
  {
   "cell_type": "markdown",
   "id": "fa9347cb",
   "metadata": {},
   "source": [
    "- Respect des consignes 20%"
   ]
  },
  {
   "cell_type": "markdown",
   "id": "c80f504d",
   "metadata": {},
   "source": [
    "- Qualité du code 10%"
   ]
  },
  {
   "cell_type": "markdown",
   "id": "0968a70f",
   "metadata": {},
   "source": [
    "## Notes:"
   ]
  },
  {
   "cell_type": "markdown",
   "id": "6581bbba",
   "metadata": {},
   "source": [
    "1. Les fichiers de données d'entrée que nous utilisons sont en format ```.yaml```. Pour savoir plus sur ce format vous pouvez consulter https://www.cloudbees.com/blog/yaml-tutorial-everything-you-need-get-started"
   ]
  },
  {
   "cell_type": "markdown",
   "id": "81c4fedf",
   "metadata": {},
   "source": [
    "2. Utiliser ```123``` comme germe de toutes les fonctions aléatoires."
   ]
  },
  {
   "cell_type": "code",
   "execution_count": null,
   "id": "6fecc0ab",
   "metadata": {},
   "outputs": [],
   "source": []
  }
 ],
 "metadata": {
  "kernelspec": {
   "display_name": "Python 3 (ipykernel)",
   "language": "python",
   "name": "python3"
  },
  "language_info": {
   "codemirror_mode": {
    "name": "ipython",
    "version": 3
   },
   "file_extension": ".py",
   "mimetype": "text/x-python",
   "name": "python",
   "nbconvert_exporter": "python",
   "pygments_lexer": "ipython3",
   "version": "3.9.16"
  }
 },
 "nbformat": 4,
 "nbformat_minor": 5
}
